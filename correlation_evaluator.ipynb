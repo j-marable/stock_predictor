{
 "cells": [
  {
   "cell_type": "code",
   "execution_count": 9,
   "metadata": {},
   "outputs": [
    {
     "name": "stdout",
     "output_type": "stream",
     "text": [
      "[*********************100%***********************]  1 of 1 completed\n",
      "[*********************100%***********************]  1 of 1 completed\n",
      "[*********************100%***********************]  1 of 1 completed\n",
      "[*********************100%***********************]  1 of 1 completed\n",
      "AAPL R^2: 0.2080137795711393\n",
      "MSFT R^2: 0.12436646439357735\n",
      "TSLA R^2: 0.07591790538186327\n",
      "GOOGL R^2: 0.06898581110383628\n"
     ]
    }
   ],
   "source": [
    "import yfinance as yf\n",
    "import pandas as pd\n",
    "from sklearn.linear_model import LinearRegression\n",
    "from sklearn.metrics import r2_score\n",
    "\n",
    "# List of stock symbols you want to analyze\n",
    "stock_symbols = ['AAPL', 'MSFT', 'GOOGL', 'TSLA']\n",
    "\n",
    "results = []\n",
    "\n",
    "for symbol in stock_symbols:\n",
    "    # Fetch historical stock data\n",
    "    stock_data = yf.download(symbol, start=\"2022-01-01\", end=\"2023-11-01\")\n",
    "\n",
    "    # Calculate MACD manually\n",
    "    stock_data['EMA_12'] = stock_data['Close'].ewm(span=12, adjust=False).mean()\n",
    "    stock_data['EMA_26'] = stock_data['Close'].ewm(span=26, adjust=False).mean()\n",
    "    stock_data['MACD'] = stock_data['EMA_12'] - stock_data['EMA_26']\n",
    "    stock_data['Signal'] = stock_data['MACD'].ewm(span=9, adjust=False).mean()\n",
    "    stock_data['Histogram'] = stock_data['MACD'] - stock_data['Signal']\n",
    "\n",
    "    # Feature engineering\n",
    "    stock_data['Next_Day_Price'] = stock_data['Close'].shift(-1)\n",
    "    stock_data['Next_Day_Price'].fillna(stock_data['Next_Day_Price'].mean(), inplace=True)\n",
    "\n",
    "\n",
    "    X = stock_data[['MACD']]  # Use 'MACD' as a feature\n",
    "    y = stock_data['Next_Day_Price']\n",
    "\n",
    "    # Create and train the linear regression model\n",
    "    model = LinearRegression()\n",
    "    model.fit(X, y)\n",
    "\n",
    "    # Calculate R-squared\n",
    "    r_squared = r2_score(y, model.predict(X))\n",
    "\n",
    "    results.append({'Stock Symbol': symbol, 'R-squared': r_squared})\n",
    "\n",
    "# Sort the results based on R-squared values\n",
    "sorted_results = sorted(results, key=lambda x: x['R-squared'], reverse=True)\n",
    "\n",
    "# Display the stocks with the highest R-squared values\n",
    "for result in sorted_results:\n",
    "    print(f\"{result['Stock Symbol']} R^2: {result['R-squared']}\")\n"
   ]
  }
 ],
 "metadata": {
  "kernelspec": {
   "display_name": "Python 3",
   "language": "python",
   "name": "python3"
  },
  "language_info": {
   "codemirror_mode": {
    "name": "ipython",
    "version": 3
   },
   "file_extension": ".py",
   "mimetype": "text/x-python",
   "name": "python",
   "nbconvert_exporter": "python",
   "pygments_lexer": "ipython3",
   "version": "3.11.1"
  }
 },
 "nbformat": 4,
 "nbformat_minor": 2
}
